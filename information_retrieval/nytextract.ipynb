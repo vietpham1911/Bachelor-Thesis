{
 "cells": [
  {
   "cell_type": "code",
   "execution_count": 1,
   "id": "d1b797f7-1575-4245-82b0-5b32aa279acb",
   "metadata": {
    "tags": []
   },
   "outputs": [],
   "source": [
    "import os\n",
    "import tarfile\n",
    "import xml.etree.ElementTree as ET\n",
    "import re\n",
    "import nltk"
   ]
  },
  {
   "cell_type": "code",
   "execution_count": 2,
   "id": "da00e4a4-9d01-4454-a92a-65c54496d374",
   "metadata": {
    "tags": []
   },
   "outputs": [],
   "source": [
    "# Function to format the publication date\n",
    "def format_publication_date(publication_date):\n",
    "    parts = publication_date.split('-') \n",
    "    if len(parts) == 3:  # If the date has year, month, and day parts\n",
    "        year, month, day = parts \n",
    "        return f\"{int(day)}\\t{int(month)}\\t{year}\"  \n",
    "    else:\n",
    "        print(f\"Invalid publication date: {publication_date}\")  \n",
    "        return  # Return nothing (None) when the date is invalid"
   ]
  },
  {
   "cell_type": "code",
   "execution_count": 3,
   "id": "dc773234-c548-47ff-8b91-e7ed8bb39f92",
   "metadata": {
    "tags": []
   },
   "outputs": [],
   "source": [
    "# Function to retrieve the publication date from the XML tree\n",
    "def get_publication_date(tree):\n",
    "    root = tree.getroot()  # Get the root element of the XML\n",
    "    publication_date = ''  \n",
    "    day = None  \n",
    "    month = None\n",
    "    year = None\n",
    "\n",
    "    # Iterate over the 'meta' elements in the XML tree\n",
    "    for meta in root.iter('meta'):\n",
    "        if meta.get('name') == 'publication_day_of_month':  \n",
    "            day = meta.get('content')  \n",
    "        elif meta.get('name') == 'publication_month': \n",
    "            month = meta.get('content')  \n",
    "        elif meta.get('name') == 'publication_year': \n",
    "            year = meta.get('content')  \n",
    "    \n",
    "    if day is not None and month is not None and year is not None:\n",
    "        publication_date = f\"{int(day)}\\t{int(month)}\\t{year}\"    # Format the publication date as \"year-month-day\"\n",
    "    \n",
    "    return publication_date "
   ]
  },
  {
   "cell_type": "code",
   "execution_count": 4,
   "id": "a079cd37-31da-482d-9dc0-7b86209a8fe7",
   "metadata": {
    "tags": []
   },
   "outputs": [],
   "source": [
    "# Function to create a collection TSV file from XML files in a folder\n",
    "def create_reformatting_mapping_files(folder_path, collection_path, mapping_path):\n",
    "    row_id = 0 \n",
    "    with open(collection_path, 'w') as collection_file, open(mapping_path, 'w') as mapping_file:  # Open the collection TSV file in write mode and Open the collection TSV file in write mode\n",
    "        for root, _, files in os.walk(folder_path):  # Iterate over the files in the folder (including subfolders)\n",
    "            for file in files:\n",
    "                if file.endswith('.tgz'):  \n",
    "                    tgz_path = os.path.join(root, file)  # Get the full path to the .tgz file\n",
    "                    with tarfile.open(tgz_path, 'r:gz') as tar:  \n",
    "                        for member in tar.getmembers():  \n",
    "                            if member.isfile() and member.name.endswith('.xml'):  # If the member is a file with .xml extension\n",
    "                                xml_file = tar.extractfile(member)  # Extract the XML file from the .tgz arch\n",
    "                                paragraphs, publication_date = extract_paragraphs_from_xml(xml_file, member.name)  # Extract paragraphs from the XML file\n",
    "                                member.name = member.name.split(\".\")[0]\n",
    "                                member.name = member.name.split(\"/\")[-1]\n",
    "                                for paragraph in paragraphs:  # Iterate over the extracted paragraphs\n",
    "                                    collection_file.write(f\"{row_id}\\t{paragraph}\\n\")  # Write the row ID and paragraph to the collection file\n",
    "                                    mapping_file.write(f\"{row_id}\\t{member.name}\\t{publication_date}\\n\")\n",
    "                                    row_id += 1 "
   ]
  },
  {
   "cell_type": "code",
   "execution_count": 5,
   "id": "dc489c67-ba87-4043-802b-3a776fee69ea",
   "metadata": {
    "tags": []
   },
   "outputs": [],
   "source": [
    "def split_paragraph(paragraph, n):\n",
    "    sentences = nltk.tokenize.sent_tokenize(paragraph)\n",
    "    return [\" \".join(sentences[i:i+n]) for i in range(len(sentences)-(n-1))]"
   ]
  },
  {
   "cell_type": "code",
   "execution_count": 6,
   "id": "986d91a2-a5ad-4d05-ac45-d249fa8700a3",
   "metadata": {
    "tags": []
   },
   "outputs": [],
   "source": [
    "# Function to extract paragraphs from an XML file and print relevant information\n",
    "def extract_paragraphs_from_xml(xml_path, file_name):\n",
    "    tree = ET.parse(xml_path)  # Parse the XML file\n",
    "    root = tree.getroot()  # Get the root element of the XML\n",
    "\n",
    "    paragraphs = []\n",
    "    publication_date = get_publication_date(tree)  # Extract the publication date from the XML\n",
    "    reformatted_publication_date = publication_date.replace('\\t', '.')\n",
    "\n",
    "    # Extract the title as a paragraph (if it exists)\n",
    "    try:\n",
    "        title = root.find('.//hedline/hl1').text\n",
    "        if title:\n",
    "            paragraphs.append(title.strip())\n",
    "    except AttributeError:\n",
    "        pass\n",
    "\n",
    "    # Extract paragraphs from the XML\n",
    "    for paragraph in root.iter('p'):\n",
    "        if paragraph.text:\n",
    "            paragraph_text = paragraph.text.strip()\n",
    "            paragraph_text = re.sub(r'\\n+', ' ', paragraph_text)  # Replace multiple newline characters with a single newline\n",
    "            paragraph_text = re.sub(r'\\n\\s*\\n', ' ', paragraph_text)  # Remove empty lines\n",
    "            paragraph_text = re.sub(r'\\r', ' ', paragraph_text)  # NEW: Replace carriage return characters with a space\n",
    "\n",
    "            # Check if the number of tokens in the paragraph is more than 200\n",
    "            if len(paragraph_text.split()) > 200:\n",
    "                # If yes, split the paragraph into smaller paragraphs\n",
    "                split_paragraphs = split_paragraph(paragraph_text, 3)  # Here '3' is the number of sentences you want in each smaller paragraph\n",
    "                paragraphs.extend(split_paragraphs)\n",
    "            else:\n",
    "                paragraphs.append(paragraph_text)\n",
    "\n",
    "            # Format the paragraph text for display\n",
    "            if len(paragraph_text.split()) > 7:\n",
    "                strings = paragraph_text.split()[:7]\n",
    "                formatted_text = ' '.join(strings) + ' [...]'\n",
    "            else:\n",
    "                formatted_text = paragraph_text\n",
    "\n",
    "    return paragraphs, publication_date"
   ]
  },
  {
   "cell_type": "code",
   "execution_count": 9,
   "id": "625b236b-9514-48b5-9161-de2ca10ed244",
   "metadata": {
    "tags": []
   },
   "outputs": [],
   "source": [
    "folder_path = '1234'  # Specify the folder path containing the XML files\n",
    "collection_path = f'{folder_path}_collection.tsv'  # Specify the path for the collection TSV file\n",
    "mapping_path = f'{folder_path}_row_id_to_doc_id_mapping.tsv'  # Specify the path for the mapping TSV file\n",
    "\n",
    "# Create the collection.tsv file\n",
    "create_reformatting_mapping_files(folder_path, collection_path, mapping_path)\n",
    "\n",
    "# Create the row_id_to_doc_id_mapping.tsv file\n",
    "# create_row_id_to_doc_id_mapping(folder_path, mapping_path)"
   ]
  }
 ],
 "metadata": {
  "kernelspec": {
   "display_name": "Python 3 (ipykernel)",
   "language": "python",
   "name": "python3"
  },
  "language_info": {
   "codemirror_mode": {
    "name": "ipython",
    "version": 3
   },
   "file_extension": ".py",
   "mimetype": "text/x-python",
   "name": "python",
   "nbconvert_exporter": "python",
   "pygments_lexer": "ipython3",
   "version": "3.9.7"
  }
 },
 "nbformat": 4,
 "nbformat_minor": 5
}
